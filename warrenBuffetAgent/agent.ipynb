{
  "cells": [
    {
      "cell_type": "markdown",
      "metadata": {
        "id": "1RV4aPVE3ecA"
      },
      "source": [
        "**Disclaimer**: This agent is not intended as financial advice.  It is for informational and entertainment purposes only.  Do your own due diligence.\n",
        "\n",
        "Hi there 👋 - the goal of this code is to create a financial agent that can analyze stocks like **Warren Buffett**.  \n",
        "\n",
        "The underlying financial data comes from [financialdatasets.ai](https://www.financialdatasets.ai), which is a stock market API that provides:\n",
        "\n",
        "\n",
        "*   income statements\n",
        "*   balance sheets\n",
        "*   cash flow statements\n",
        "*   sec filings\n",
        "*   stock prices\n",
        "\n",
        "Credit: Build Fast With AI Session."
      ]
    },
    {
      "cell_type": "markdown",
      "metadata": {
        "id": "3MVnaiPFiyah"
      },
      "source": [
        "# 0. Setup and installation"
      ]
    },
    {
      "cell_type": "code",
      "execution_count": null,
      "metadata": {
        "id": "GcvSoNAmVbXH"
      },
      "outputs": [],
      "source": [
        "!pip install -U --quiet langgraph langchain_community langchain_anthropic langsmith langchain_openai"
      ]
    },
    {
      "cell_type": "code",
      "execution_count": null,
      "metadata": {
        "id": "aw9453mxY2GZ"
      },
      "outputs": [],
      "source": [
        "import getpass\n",
        "import os"
      ]
    },
    {
      "cell_type": "code",
      "execution_count": null,
      "metadata": {
        "id": "y1zk1HmtIBoE"
      },
      "outputs": [],
      "source": [
        "\n",
        "# Set your Anthropic API key\n",
        "os.environ[\"ANTHROPIC_API_KEY\"] = getpass.getpass()"
      ]
    },
    {
      "cell_type": "code",
      "execution_count": null,
      "metadata": {
        "id": "wLgG34qXylsg"
      },
      "outputs": [],
      "source": [
        "# You can get an API key here https://financialdatasets.ai/\n",
        "os.environ[\"FINANCIAL_DATASETS_API_KEY\"] = getpass.getpass()"
      ]
    },
    {
      "cell_type": "code",
      "execution_count": null,
      "metadata": {
        "id": "tCNu6ZOXIJuU"
      },
      "outputs": [],
      "source": [
        "# Set your Tavily API key from https://tavily.com/\n",
        "os.environ[\"TAVILY_API_KEY\"] = getpass.getpass()"
      ]
    },
    {
      "cell_type": "code",
      "execution_count": null,
      "metadata": {
        "id": "iqE_pMaMETeZ"
      },
      "outputs": [],
      "source": [
        "# You can create an API key here https://smith.langchain.com/settings\n",
        "os.environ[\"LANGCHAIN_TRACING_V2\"] = \"True\"\n",
        "os.environ[\"LANGCHAIN_API_KEY\"] = getpass.getpass()"
      ]
    },
    {
      "cell_type": "markdown",
      "metadata": {
        "id": "bqtPnq2Q7LKA"
      },
      "source": [
        "# 1. Define tools for financial metric computations"
      ]
    },
    {
      "cell_type": "code",
      "execution_count": null,
      "metadata": {
        "id": "inc3sZdzsmQ-"
      },
      "outputs": [],
      "source": [
        "from langchain_core.tools import tool\n",
        "\n",
        "\n",
        "@tool\n",
        "def roe(\n",
        "    net_income: float,\n",
        "    equity: float,\n",
        ") -> float:\n",
        "    \"\"\"\n",
        "    Computes the return on equity (ROE) for a given company.\n",
        "    Use this function to evaluate the profitability of a company.\n",
        "    \"\"\"\n",
        "    return net_income / equity\n",
        "\n",
        "\n",
        "@tool\n",
        "def roic(\n",
        "    operating_income: float,\n",
        "    total_debt: float,\n",
        "    equity: float,\n",
        "    cash_and_equivalents: float,\n",
        "    tax_rate: float = 0.35,\n",
        ") -> float:\n",
        "    \"\"\"\n",
        "    Computes the return on invested capital (ROIC) for a given company.\n",
        "    Use this function to evaluate the efficiency of a company in generating returns from its capital.\n",
        "    \"\"\"\n",
        "    net_operating_profit_after_tax = operating_income * (1 - tax_rate)\n",
        "    invested_capital = total_debt + equity - cash_and_equivalents\n",
        "    return net_operating_profit_after_tax / invested_capital\n",
        "\n",
        "\n",
        "@tool\n",
        "def owner_earnings(\n",
        "    net_income: float,\n",
        "    depreciation_amortization: float = 0.0,\n",
        "    capital_expenditures: float = 0.0\n",
        "):\n",
        "    \"\"\"\n",
        "    Calculates the owner earnings for a company based on the net income, depreciation/amortization, and capital expenditures.\n",
        "    \"\"\"\n",
        "    return net_income + depreciation_amortization - capital_expenditures\n",
        "\n",
        "\n",
        "@tool\n",
        "def intrinsic_value(\n",
        "    free_cash_flow: float,\n",
        "    growth_rate: float = 0.05,\n",
        "    discount_rate: float = 0.10,\n",
        "    terminal_growth_rate: float = 0.02,\n",
        "    num_years: int = 5,\n",
        ") -> float:\n",
        "    \"\"\"\n",
        "    Computes the discounted cash flow (DCF) for a given company based on the current free cash flow.\n",
        "    Use this function to calculate the intrinsic value of a stock.\n",
        "    \"\"\"\n",
        "    # Estimate the future cash flows based on the growth rate\n",
        "    cash_flows = [free_cash_flow * (1 + growth_rate) ** i for i in range(num_years)]\n",
        "\n",
        "    # Calculate the present value of projected cash flows\n",
        "    present_values = []\n",
        "    for i in range(num_years):\n",
        "        present_value = cash_flows[i] / (1 + discount_rate) ** (i + 1)\n",
        "        present_values.append(present_value)\n",
        "\n",
        "    # Calculate the terminal value\n",
        "    terminal_value = cash_flows[-1] * (1 + terminal_growth_rate) / (discount_rate - terminal_growth_rate)\n",
        "    terminal_present_value = terminal_value / (1 + discount_rate) ** num_years\n",
        "\n",
        "    # Sum up the present values and terminal value\n",
        "    dcf_value = sum(present_values) + terminal_present_value\n",
        "\n",
        "    return dcf_value\n",
        "\n",
        "@tool\n",
        "def percentage_change(start: float, end: float):\n",
        "    \"\"\"\n",
        "    Calculate the percentage change between two floats, start and end.\n",
        "\n",
        "    :param start: The starting value\n",
        "    :param end: The end value\n",
        "    :return: The percentage change as a float\n",
        "    \"\"\"\n",
        "    if start == 0:\n",
        "        raise ValueError(\"Start cannot be zero\")\n",
        "\n",
        "    price_change = end - start\n",
        "    percentage_change = (price_change / start) * 100\n",
        "\n",
        "    return round(percentage_change, 2)"
      ]
    },
    {
      "cell_type": "markdown",
      "metadata": {
        "id": "0AXwcNwXV0Tg"
      },
      "source": [
        "# 2. Define tool for getting stock prices"
      ]
    },
    {
      "cell_type": "code",
      "execution_count": null,
      "metadata": {
        "id": "AgYrO1XpVyvC"
      },
      "outputs": [],
      "source": [
        "import os\n",
        "from typing import Dict, Union\n",
        "from langchain.pydantic_v1 import BaseModel, Field\n",
        "import requests\n",
        "\n",
        "class GetPricesInput(BaseModel):\n",
        "    ticker: str = Field(..., description=\"The ticker of the stock.\")\n",
        "    start_date: str = Field(..., description=\"The start of the price time window. Either a date with the format YYYY-MM-DD or a millisecond timestamp.\")\n",
        "    end_date: str = Field(..., description=\"The end of the aggregate time window. Either a date with the format YYYY-MM-DD or a millisecond timestamp.\")\n",
        "    interval: str = Field(\n",
        "        default=\"day\",\n",
        "        description=\"The time interval of the prices. Valid values are second', 'minute', 'day', 'week', 'month', 'quarter', 'year'.\",\n",
        "    )\n",
        "    interval_multiplier: int = Field(\n",
        "        default=1,\n",
        "        description=\"The multiplier for the interval. For example, if interval is 'day' and interval_multiplier is 1, the prices will be daily. \"\n",
        "                    \"If interval is 'minute' and interval_multiplier is 5, the prices will be every 5 minutes.\",\n",
        "    )\n",
        "    limit: int = Field(\n",
        "        default=5000,\n",
        "        description=\"The maximum number of prices to return. The default is 5000 and the maximum is 50000.\",\n",
        "    )\n",
        "\n",
        "@tool(\"get_prices\", args_schema=GetPricesInput, return_direct=True)\n",
        "def get_prices(ticker: str, start_date: str, end_date: str, interval: str, interval_multiplier: int = 1, limit: int = 5000) -> Union[Dict, str]:\n",
        "    \"\"\"\n",
        "    Get prices for a ticker over a given date range and interval.\n",
        "    \"\"\"\n",
        "\n",
        "    api_key = os.environ.get(\"FINANCIAL_DATASETS_API_KEY\")\n",
        "    if not api_key:\n",
        "        raise ValueError(\"Missing FINANCIAL_DATASETS_API_KEY.\")\n",
        "    url = (\n",
        "        f\"https://api.financialdatasets.ai/prices\"\n",
        "        f\"?ticker={ticker}\"\n",
        "        f\"&start_date={start_date}\"\n",
        "        f\"&end_date={end_date}\"\n",
        "        f\"&interval={interval}\"\n",
        "        f\"&interval_multiplier={interval_multiplier}\"\n",
        "        f\"&limit={limit}\"\n",
        "    )\n",
        "\n",
        "    try:\n",
        "        response = requests.get(url, headers={'X-API-Key': api_key})\n",
        "        data = response.json()\n",
        "        return data\n",
        "    except Exception as e:\n",
        "        return {\"ticker\": ticker, \"prices\": [], \"error\": str(e)}\n"
      ]
    },
    {
      "cell_type": "markdown",
      "metadata": {
        "id": "zvX6AyDjKRkj"
      },
      "source": [
        "# 3. Define Financial Search tool"
      ]
    },
    {
      "cell_type": "code",
      "execution_count": null,
      "metadata": {
        "id": "pjVWnlX6KYUx"
      },
      "outputs": [],
      "source": [
        "from langchain.pydantic_v1 import BaseModel, Field\n",
        "from typing import List, Optional\n",
        "from datetime import date\n",
        "from enum import Enum\n",
        "\n",
        "\n",
        "class LineItem(str, Enum):\n",
        "    # Income Statement fields\n",
        "    consolidated_income = \"consolidated_income\"\n",
        "    cost_of_revenue = \"cost_of_revenue\"\n",
        "    dividends_per_common_share = \"dividends_per_common_share\"\n",
        "    earnings_per_share = \"earnings_per_share\"\n",
        "    earnings_per_share_diluted = \"earnings_per_share_diluted\"\n",
        "    ebit = \"ebit\"\n",
        "    ebit_usd = \"ebit_usd\"\n",
        "    earnings_per_share_usd = \"earnings_per_share_usd\"\n",
        "    gross_profit = \"gross_profit\"\n",
        "    income_tax_expense = \"income_tax_expense\"\n",
        "    interest_expense = \"interest_expense\"\n",
        "    net_income = \"net_income\"\n",
        "    net_income_common_stock = \"net_income_common_stock\"\n",
        "    net_income_common_stock_usd = \"net_income_common_stock_usd\"\n",
        "    net_income_discontinued_operations = \"net_income_discontinued_operations\"\n",
        "    net_income_non_controlling_interests = \"net_income_non_controlling_interests\"\n",
        "    operating_expense = \"operating_expense\"\n",
        "    operating_income = \"operating_income\"\n",
        "    preferred_dividends_impact = \"preferred_dividends_impact\"\n",
        "    research_and_development = \"research_and_development\"\n",
        "    revenue = \"revenue\"\n",
        "    revenue_usd = \"revenue_usd\"\n",
        "    selling_general_and_administrative_expenses = \"selling_general_and_administrative_expenses\"\n",
        "    weighted_average_shares = \"weighted_average_shares\"\n",
        "    weighted_average_shares_diluted = \"weighted_average_shares_diluted\"\n",
        "\n",
        "    # Balance Sheet fields\n",
        "    accumulated_other_comprehensive_income = \"accumulated_other_comprehensive_income\"\n",
        "    cash_and_equivalents = \"cash_and_equivalents\"\n",
        "    cash_and_equivalents_usd = \"cash_and_equivalents_usd\"\n",
        "    current_assets = \"current_assets\"\n",
        "    current_debt = \"current_debt\"\n",
        "    current_investments = \"current_investments\"\n",
        "    current_liabilities = \"current_liabilities\"\n",
        "    deferred_revenue = \"deferred_revenue\"\n",
        "    deposit_liabilities = \"deposit_liabilities\"\n",
        "    goodwill_and_intangible_assets = \"goodwill_and_intangible_assets\"\n",
        "    inventory = \"inventory\"\n",
        "    investments = \"investments\"\n",
        "    non_current_assets = \"non_current_assets\"\n",
        "    non_current_debt = \"non_current_debt\"\n",
        "    non_current_investments = \"non_current_investments\"\n",
        "    non_current_liabilities = \"non_current_liabilities\"\n",
        "    outstanding_shares = \"outstanding_shares\"\n",
        "    property_plant_and_equipment = \"property_plant_and_equipment\"\n",
        "    retained_earnings = \"retained_earnings\"\n",
        "    shareholders_equity = \"shareholders_equity\"\n",
        "    shareholders_equity_usd = \"shareholders_equity_usd\"\n",
        "    tax_assets = \"tax_assets\"\n",
        "    tax_liabilities = \"tax_liabilities\"\n",
        "    total_assets = \"total_assets\"\n",
        "    total_debt = \"total_debt\"\n",
        "    total_debt_usd = \"total_debt_usd\"\n",
        "    total_liabilities = \"total_liabilities\"\n",
        "    trade_and_non_trade_payables = \"trade_and_non_trade_payables\"\n",
        "    trade_and_non_trade_receivables = \"trade_and_non_trade_receivables\"\n",
        "\n",
        "    # Cash Flow Statement fields\n",
        "    business_acquisitions_and_disposals = \"business_acquisitions_and_disposals\"\n",
        "    capital_expenditure = \"capital_expenditure\"\n",
        "    change_in_cash_and_equivalents = \"change_in_cash_and_equivalents\"\n",
        "    depreciation_and_amortization = \"depreciation_and_amortization\"\n",
        "    dividends_and_other_cash_distributions = \"dividends_and_other_cash_distributions\"\n",
        "    effect_of_exchange_rate_changes = \"effect_of_exchange_rate_changes\"\n",
        "    investment_acquisitions_and_disposals = \"investment_acquisitions_and_disposals\"\n",
        "    issuance_or_purchase_of_equity_shares = \"issuance_or_purchase_of_equity_shares\"\n",
        "    issuance_or_repayment_of_debt_securities = \"issuance_or_repayment_of_debt_securities\"\n",
        "    net_cash_flow_from_financing = \"net_cash_flow_from_financing\"\n",
        "    net_cash_flow_from_investing = \"net_cash_flow_from_investing\"\n",
        "    net_cash_flow_from_operations = \"net_cash_flow_from_operations\"\n",
        "    share_based_compensation = \"share_based_compensation\"\n",
        "\n",
        "\n",
        "class SearchLineItemsInput(BaseModel):\n",
        "    tickers: List[str] = Field(..., description=\"List of stock tickers to search for.\")\n",
        "    line_items: List[LineItem] = Field(..., description=\"List of financial line items to retrieve.\")\n",
        "    period: str = Field(\n",
        "        default=\"ttm\",\n",
        "        description=\"The time period for the financial data. Valid values are 'annual', 'quarterly', or 'ttm' (trailing twelve months).\"\n",
        "    )\n",
        "    limit: int = Field(\n",
        "        default=1,\n",
        "        description=\"The maximum number of results to return per ticker. Must be a positive integer.\"\n",
        "    )\n",
        "    start_date: Optional[date] = Field(\n",
        "        None,\n",
        "        description=\"The start date for the financial data in YYYY-MM-DD format.\"\n",
        "    )\n",
        "    end_date: Optional[date] = Field(\n",
        "        None,\n",
        "        description=\"The end date for the financial data in YYYY-MM-DD format.\"\n",
        "    )\n",
        "\n",
        "    class Config:\n",
        "        schema_extra = {\n",
        "            \"example\": {\n",
        "                \"tickers\": [\"AAPL\", \"GOOGL\"],\n",
        "                \"line_items\": [\"revenue\", \"net_income\", \"total_assets\"],\n",
        "                \"period\": \"annual\",\n",
        "                \"limit\": 5,\n",
        "                \"start_date\": \"2020-01-01\",\n",
        "                \"end_date\": \"2024-09-01\"\n",
        "            }\n",
        "        }\n"
      ]
    },
    {
      "cell_type": "code",
      "execution_count": null,
      "metadata": {
        "id": "zLKA3XWmK25u"
      },
      "outputs": [],
      "source": [
        "import os\n",
        "from typing import Dict, Union, List\n",
        "\n",
        "import requests\n",
        "from langchain_core.tools import tool\n",
        "\n",
        "@tool(\"search-line-items\", args_schema=SearchLineItemsInput, return_direct=True)\n",
        "def search_line_items(\n",
        "    tickers: List[str],\n",
        "    line_items: List[str],\n",
        "    period: str = \"ttm\",\n",
        "    limit: int = 1,\n",
        "    start_date: str = None,\n",
        "    end_date: str = None\n",
        ") -> Union[Dict, str]:\n",
        "    \"\"\"\n",
        "    Search for specific financial line items across multiple company tickers over a specified time period.\n",
        "\n",
        "    Note: This tool accesses real financial data and should be used when specific, factual financial line items are required.\n",
        "    \"\"\"\n",
        "    BASE_URL = \"https://api.financialdatasets.ai/\"\n",
        "\n",
        "    api_key = os.environ.get(\"FINANCIAL_DATASETS_API_KEY\")\n",
        "    if not api_key:\n",
        "        raise ValueError(\"Missing FINANCIAL_DATASETS_API_KEY.\")\n",
        "\n",
        "    url = f\"{BASE_URL}financials/search/line-items\"\n",
        "\n",
        "    payload = {\n",
        "        \"tickers\": tickers,\n",
        "        \"line_items\": line_items,\n",
        "        \"period\": period,\n",
        "        \"limit\": limit\n",
        "    }\n",
        "\n",
        "    if start_date:\n",
        "        payload[\"start_date\"] = start_date\n",
        "    if end_date:\n",
        "        payload[\"end_date\"] = end_date\n",
        "\n",
        "    try:\n",
        "        response = requests.post(\n",
        "            url,\n",
        "            json=payload,\n",
        "            headers={'X-API-Key': api_key, 'Content-Type': 'application/json'}\n",
        "        )\n",
        "        response.raise_for_status()  # Raises an HTTPError for bad responses\n",
        "        data = response.json()\n",
        "        return data\n",
        "    except requests.exceptions.RequestException as e:\n",
        "        return {\"search_results\": [], \"error\": str(e)}\n"
      ]
    },
    {
      "cell_type": "markdown",
      "metadata": {
        "id": "oE1h5g4-KYzi"
      },
      "source": [
        "# 4. Define Web Search tool"
      ]
    },
    {
      "cell_type": "code",
      "execution_count": null,
      "metadata": {
        "id": "Y99Y-DlTKrkf"
      },
      "outputs": [],
      "source": [
        "from langchain.pydantic_v1 import BaseModel, Field\n",
        "from typing import List, Optional\n",
        "\n",
        "\n",
        "class TavilySearchInput(BaseModel):\n",
        "    query: str = Field(..., description=\"The search query you want to execute with Tavily.\")\n",
        "    search_depth: Optional[str] = Field(\n",
        "        default=\"basic\",\n",
        "        description=\"The depth of the search. It can be 'basic' or 'advanced'.\"\n",
        "    )\n",
        "    topic: Optional[str] = Field(\n",
        "        default=\"general\",\n",
        "        description=\"The category of the search. Currently supports 'general' and 'news'.\"\n",
        "    )\n",
        "    days: Optional[int] = Field(\n",
        "        default=3,\n",
        "        description=\"The number of days back from the current date to include in the search results. Only available for 'news' topic.\"\n",
        "    )\n",
        "    max_results: Optional[int] = Field(\n",
        "        default=5,\n",
        "        description=\"The maximum number of search results to return.\"\n",
        "    )\n",
        "    include_images: Optional[bool] = Field(\n",
        "        default=False,\n",
        "        description=\"Include a list of query-related images in the response.\"\n",
        "    )\n",
        "    include_image_descriptions: Optional[bool] = Field(\n",
        "        default=False,\n",
        "        description=\"When include_images is True, adds descriptive text for each image.\"\n",
        "    )\n",
        "    include_answer: Optional[bool] = Field(\n",
        "        default=False,\n",
        "        description=\"Include a short answer to original query.\"\n",
        "    )\n",
        "    include_raw_content: Optional[bool] = Field(\n",
        "        default=False,\n",
        "        description=\"Include the cleaned and parsed HTML content of each search result.\"\n",
        "    )\n",
        "    include_domains: Optional[List[str]] = Field(\n",
        "        default=[],\n",
        "        description=\"A list of domains to specifically include in the search results.\"\n",
        "    )\n",
        "    exclude_domains: Optional[List[str]] = Field(\n",
        "        default=[],\n",
        "        description=\"A list of domains to specifically exclude from the search results.\"\n",
        "    )\n",
        "\n",
        "    class Config:\n",
        "        schema_extra = {\n",
        "            \"example\": {\n",
        "                \"query\": \"Latest advancements in AI\",\n",
        "                \"api_key\": \"your-api-key-here\",\n",
        "                \"search_depth\": \"advanced\",\n",
        "                \"topic\": \"news\",\n",
        "                \"days\": 7,\n",
        "                \"max_results\": 10,\n",
        "                \"include_images\": True,\n",
        "                \"include_image_descriptions\": True,\n",
        "                \"include_answer\": True,\n",
        "                \"include_raw_content\": False,\n",
        "                \"include_domains\": [\"techcrunch.com\", \"wired.com\"],\n",
        "                \"exclude_domains\": [\"example.com\"]\n",
        "            }\n",
        "        }\n"
      ]
    },
    {
      "cell_type": "code",
      "execution_count": null,
      "metadata": {
        "id": "wIVzEETzKuQ5"
      },
      "outputs": [],
      "source": [
        "import os\n",
        "from typing import Dict, Union\n",
        "\n",
        "import requests\n",
        "from langchain_core.tools import tool\n",
        "\n",
        "@tool(\"search-web\", args_schema=TavilySearchInput, return_direct=True)\n",
        "def search_web(\n",
        "    query: str,\n",
        "    search_depth: str = \"basic\",\n",
        "    topic: str = \"general\",\n",
        "    days: int = 3,\n",
        "    max_results: int = 3,\n",
        "    include_images: bool = False,\n",
        "    include_answer: bool = False,\n",
        "    include_raw_content: bool = False,\n",
        "    include_domains: list = None,\n",
        "    exclude_domains: list = None\n",
        ") -> Union[Dict, str]:\n",
        "    \"\"\"\n",
        "    Perform a web search using the Tavily API.\n",
        "\n",
        "    This tool accesses real-time web data, news, articles and should be used when up-to-date information from the internet is required.\n",
        "    \"\"\"\n",
        "    TAVILY_BASE_URL = \"https://api.tavily.com\"\n",
        "\n",
        "    api_key = os.environ.get(\"TAVILY_API_KEY\")\n",
        "    if not api_key:\n",
        "        raise ValueError(\"Missing TAVILY_API_KEY in environment variables.\")\n",
        "\n",
        "    payload = {\n",
        "        \"api_key\": api_key,\n",
        "        \"query\": query,\n",
        "        \"search_depth\": search_depth,\n",
        "        \"topic\": topic,\n",
        "        \"days\": days if topic == \"news\" else None,\n",
        "        \"max_results\": max_results,\n",
        "        \"include_images\": include_images,\n",
        "        \"include_answer\": include_answer,\n",
        "        \"include_raw_content\": include_raw_content\n",
        "    }\n",
        "\n",
        "    if include_domains:\n",
        "        payload[\"include_domains\"] = include_domains\n",
        "    if exclude_domains:\n",
        "        payload[\"exclude_domains\"] = exclude_domains\n",
        "\n",
        "    try:\n",
        "        response = requests.post(\n",
        "            f\"{TAVILY_BASE_URL}/search\",\n",
        "            json=payload,\n",
        "            headers={'Content-Type': 'application/json'}\n",
        "        )\n",
        "        response.raise_for_status()  # Raises an HTTPError for bad responses\n",
        "        data = response.json()\n",
        "        return data\n",
        "    except requests.exceptions.RequestException as e:\n",
        "        return {\"error\": str(e)}\n",
        "\n",
        "\n",
        "if __name__ == \"__main__\":\n",
        "    # Example usage of the tool\n",
        "    search_web(\"Latest advancements in AI\")"
      ]
    },
    {
      "cell_type": "markdown",
      "metadata": {
        "id": "ABtfJlkWWs_9"
      },
      "source": [
        "# 5. Set up the LLM"
      ]
    },
    {
      "cell_type": "code",
      "execution_count": null,
      "metadata": {
        "id": "tsEwgNepIe_W"
      },
      "outputs": [],
      "source": [
        "from langgraph.prebuilt import ToolNode\n",
        "\n",
        "from langchain_community.tools import IncomeStatements, BalanceSheets, CashFlowStatements\n",
        "from langchain_community.utilities.financial_datasets import FinancialDatasetsAPIWrapper\n",
        "\n",
        "# Create the tools\n",
        "api_wrapper = FinancialDatasetsAPIWrapper()\n",
        "integration_tools = [\n",
        "    IncomeStatements(api_wrapper=api_wrapper),\n",
        "    BalanceSheets(api_wrapper=api_wrapper),\n",
        "    CashFlowStatements(api_wrapper=api_wrapper),\n",
        "]\n",
        "\n",
        "local_tools = [intrinsic_value, roe, roic, owner_earnings, get_prices, percentage_change, search_line_items, search_web]\n",
        "tools = integration_tools + local_tools\n",
        "\n",
        "tool_node = ToolNode(tools)"
      ]
    },
    {
      "cell_type": "code",
      "execution_count": null,
      "metadata": {
        "id": "1Z05n9jgXB02"
      },
      "outputs": [],
      "source": [
        "from langchain.tools.render import format_tool_to_openai_function\n",
        "from langchain_anthropic.chat_models import ChatAnthropic\n",
        "from langchain_openai.chat_models import ChatOpenAI\n",
        "\n",
        "sonnet_model = ChatAnthropic(model=\"claude-3-5-sonnet-20240620\", temperature=0).bind_tools(tools)"
      ]
    },
    {
      "cell_type": "code",
      "execution_count": null,
      "metadata": {
        "id": "pd-bn4An5xek"
      },
      "outputs": [],
      "source": [
        "import datetime\n",
        "\n",
        "system_prompt = f\"\"\"\n",
        "You are an AI financial agent with expertise in analyzing businesses using methods similar to those of Warren Buffett. Your task is to provide short, accurate, and concise answers to questions about company financials and performance.\n",
        "\n",
        "You use financial tools to answer the questions.  The tools give you access to data sources like income statements, stock prices, etc.\n",
        "\n",
        "Here are a few example questions and answers:\n",
        "\n",
        "# Example 1:\n",
        "question: What was NVDA's net income for the fiscal year 2023?\n",
        "answer: The net income for NVDA in 2023 was $2.8 billion.\n",
        "\n",
        "# Example 2:\n",
        "question: How did NVDA's gross profit in 2023 compare to its gross profit in 2022?\n",
        "answer: In 2023, NVDA's gross profit increased by 12% compared to 2022.\n",
        "\n",
        "# Example 3:\n",
        "question: What was NVDA's revenue for the first quarter of 2024?,\n",
        "answer: NVDA's revenue for the first quarter of 2024 was $5.6 billion.\n",
        "\n",
        "Analyze these examples carefully. Notice how the answers are concise, specific, and directly address the questions asked. They provide precise financial figures and, when applicable, comparative analysis.\n",
        "\n",
        "When answering questions:\n",
        "1. Focus on providing accurate financial data and insights.\n",
        "2. Use specific numbers and percentages when available.\n",
        "3. Make comparisons between different time periods if relevant.\n",
        "4. Keep your answers short, concise, and to the point.\n",
        "\n",
        "Important: You must be short and concise with your answers.\n",
        "\n",
        "The current date is {datetime.date.today().strftime(\"%Y-%m-%d\")}\n",
        "\"\"\""
      ]
    },
    {
      "cell_type": "markdown",
      "metadata": {
        "id": "-1QmeRXMXOpk"
      },
      "source": [
        "# 6. Define the agent state"
      ]
    },
    {
      "cell_type": "code",
      "execution_count": null,
      "metadata": {
        "id": "pdiItye3XRnC"
      },
      "outputs": [],
      "source": [
        "from typing import TypedDict, Annotated, Sequence\n",
        "import operator\n",
        "from langchain_core.messages import BaseMessage\n",
        "\n",
        "class AgentState(TypedDict):\n",
        "    messages: Annotated[Sequence[BaseMessage], operator.add]"
      ]
    },
    {
      "cell_type": "markdown",
      "metadata": {
        "id": "Nkx5fvUE7Hjz"
      },
      "source": [
        "# 7. Define the nodes"
      ]
    },
    {
      "cell_type": "code",
      "execution_count": null,
      "metadata": {
        "id": "nTW70qJEV6-A"
      },
      "outputs": [],
      "source": [
        "from typing import Literal\n",
        "from langgraph.graph import END, StateGraph, MessagesState\n",
        "from langchain_core.messages import SystemMessage\n",
        "\n",
        "# Define the function that determines whether to continue or not\n",
        "def should_continue(state: MessagesState) -> Literal[\"tools\", END]:\n",
        "    messages = state['messages']\n",
        "    last_message = messages[-1]\n",
        "    # If the LLM makes a tool call, then we route to the \"tools\" node\n",
        "    if last_message.tool_calls:\n",
        "        return \"tools\"\n",
        "    # Otherwise, we stop (reply to the user)\n",
        "    return END\n",
        "\n",
        "# Define the function that calls the model\n",
        "def call_agent(state: MessagesState):\n",
        "    prompt = SystemMessage(\n",
        "        content=system_prompt\n",
        "    )\n",
        "    # Get the messages\n",
        "    messages = state['messages']\n",
        "\n",
        "    # Check if first message in messages is the prompt\n",
        "    if messages and messages[0].content != system_prompt:\n",
        "        # Add the prompt to the start of the message\n",
        "        messages.insert(0, prompt)\n",
        "\n",
        "    # We return a list, because this will get added to the existing list\n",
        "    return {\"messages\": [sonnet_model.invoke(messages)]}\n",
        "\n",
        "def call_output(state: MessagesState):\n",
        "    prompt = SystemMessage(\n",
        "        content=system_prompt\n",
        "    )\n",
        "    # Get the messages\n",
        "    messages = state['messages']\n",
        "\n",
        "    # Check if first message in messages is the prompt\n",
        "    if messages and messages[0].content != system_prompt:\n",
        "        # Add the prompt to the start of the message\n",
        "        messages.insert(0, prompt)\n",
        "    return {\"messages\": [sonnet_model.invoke(messages)]}\n"
      ]
    },
    {
      "cell_type": "markdown",
      "metadata": {
        "id": "WslINdsq7FWq"
      },
      "source": [
        "# 8. Define the graph"
      ]
    },
    {
      "cell_type": "code",
      "execution_count": null,
      "metadata": {
        "id": "xK5euZ6UWAhq"
      },
      "outputs": [],
      "source": [
        "# Define a new graph\n",
        "workflow = StateGraph(MessagesState)\n",
        "\n",
        "# Define the two nodes we will cycle between\n",
        "workflow.add_node(\"agent\", call_agent)\n",
        "workflow.add_node(\"tools\", tool_node)\n",
        "workflow.add_node(\"output\", call_output)\n",
        "\n",
        "# Set the entrypoint as `agent`\n",
        "# This means that this node is the first one called\n",
        "workflow.set_entry_point(\"agent\")\n",
        "\n",
        "# We now add a conditional edge\n",
        "workflow.add_conditional_edges(\n",
        "    # First, we define the start node. We use `agent`.\n",
        "    # This means these are the edges taken after the `agent` node is called.\n",
        "    \"agent\",\n",
        "    # Next, we pass in the function that will determine which node is called next.\n",
        "    should_continue,\n",
        "    {\"tools\": \"tools\", END: END}\n",
        ")\n",
        "\n",
        "# We now add a normal edge from `tools` to `agent`.\n",
        "# This means that after `tools` is called, `agent` node is called next.\n",
        "workflow.add_edge(\"tools\", \"output\")\n",
        "\n",
        "# Finally, we compile it!\n",
        "# This compiles it into a LangChain Runnable,\n",
        "# meaning you can use it as you would any other runnable.\n",
        "# Note that we're (optionally) passing the memory when compiling the graph\n",
        "app = workflow.compile()"
      ]
    },
    {
      "cell_type": "markdown",
      "metadata": {
        "id": "EQOLvjF7XvZR"
      },
      "source": [
        "# 9. Run the financial agent"
      ]
    },
    {
      "cell_type": "code",
      "execution_count": null,
      "metadata": {
        "colab": {
          "base_uri": "https://localhost:8080/"
        },
        "id": "BDiXx__hpilI",
        "outputId": "08b15c73-ac3a-4625-fec3-32600ad16960"
      },
      "outputs": [
        {
          "name": "stdout",
          "output_type": "stream",
          "text": [
            "Based on the latest news for Apple (AAPL), here are the key points: 1. Record high stock price: Apple's stock reached an all-time high of $237.49 on October 15, 2024. 2. Market capitalization: The company's market cap hit a record $3.6 trillion. 3. AI-driven growth: The stock surge is attributed to optimism surrounding the release of AI-focused products, including: - The iPhone 16 with AI features - Apple Intelligence, an AI-focused iPhone operating software, launching on October 28, 2024 4. Upcoming earnings: Apple is set to report its quarterly earnings on October 31, 2024. 5. Strong performance: Apple's stock has risen 37% over the past six months, outperforming the Nasdaq 100 Index. These developments indicate positive market sentiment towards Apple's AI initiatives and continued growth prospects.\n"
          ]
        }
      ],
      "source": [
        "from langchain_core.messages import HumanMessage\n",
        "\n",
        "# Use the Runnable\n",
        "final_state = app.invoke(\n",
        "    {\"messages\": [HumanMessage(content=\"What is the latest news for AAPL?\")]},\n",
        "    config={\"configurable\": {\"thread_id\": 42}}\n",
        ")\n",
        "output = final_state[\"messages\"][-1].content\n",
        "print(' '.join(output.split()))"
      ]
    },
    {
      "cell_type": "code",
      "execution_count": null,
      "metadata": {
        "colab": {
          "base_uri": "https://localhost:8080/"
        },
        "id": "Dri3ksleI-ZC",
        "outputId": "deaa8091-b207-4b7e-9eba-fba758df0171"
      },
      "outputs": [
        {
          "name": "stdout",
          "output_type": "stream",
          "text": [
            "Based on the income statement data for Apple (AAPL) in fiscal year 2023: AAPL's revenue was $383.29 billion and net income was $97.00 billion.\n"
          ]
        }
      ],
      "source": [
        "final_state = app.invoke(\n",
        "    {\"messages\": [HumanMessage(content=\"What was AAPL's revenue and net income in FY 2023?\")]},\n",
        "    config={\"configurable\": {\"thread_id\": 42}}\n",
        ")\n",
        "output = final_state[\"messages\"][-1].content\n",
        "print(' '.join(output.split()))"
      ]
    }
  ],
  "metadata": {
    "colab": {
      "collapsed_sections": [
        "3MVnaiPFiyah",
        "bqtPnq2Q7LKA",
        "0AXwcNwXV0Tg",
        "zvX6AyDjKRkj",
        "oE1h5g4-KYzi",
        "ABtfJlkWWs_9",
        "-1QmeRXMXOpk",
        "Nkx5fvUE7Hjz",
        "WslINdsq7FWq"
      ],
      "provenance": []
    },
    "kernelspec": {
      "display_name": "Python 3",
      "name": "python3"
    },
    "language_info": {
      "name": "python"
    }
  },
  "nbformat": 4,
  "nbformat_minor": 0
}
